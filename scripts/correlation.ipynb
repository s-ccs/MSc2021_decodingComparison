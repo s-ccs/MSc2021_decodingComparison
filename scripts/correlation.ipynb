{
 "cells": [
  {
   "cell_type": "code",
   "execution_count": 1,
   "metadata": {},
   "outputs": [],
   "source": [
    "# add scripts\n",
    "import os\n",
    "import sys\n",
    "module_path = os.path.abspath(os.path.join('../src'))\n",
    "if module_path not in sys.path:\n",
    "    sys.path.append(module_path)"
   ]
  },
  {
   "cell_type": "code",
   "execution_count": 4,
   "metadata": {},
   "outputs": [
    {
     "ename": "ImportError",
     "evalue": "cannot import name 'Sequence' from 'collections' (/home/ehinger/miniconda3/envs/MSc2021_decodingComparison/lib/python3.11/collections/__init__.py)",
     "output_type": "error",
     "traceback": [
      "\u001b[0;31m---------------------------------------------------------------------------\u001b[0m",
      "\u001b[0;31mImportError\u001b[0m                               Traceback (most recent call last)",
      "Cell \u001b[0;32mIn[4], line 2\u001b[0m\n\u001b[1;32m      1\u001b[0m \u001b[39mimport\u001b[39;00m \u001b[39mDataLoader\u001b[39;00m\n\u001b[0;32m----> 2\u001b[0m \u001b[39mimport\u001b[39;00m \u001b[39mTraining\u001b[39;00m\n",
      "File \u001b[0;32m/store/users/ehinger/student_projects/MSc2021_decodingComparison/src/Training.py:10\u001b[0m\n\u001b[1;32m      8\u001b[0m \u001b[39mfrom\u001b[39;00m \u001b[39mbraindecode\u001b[39;00m \u001b[39mimport\u001b[39;00m EEGClassifier\n\u001b[1;32m      9\u001b[0m \u001b[39mfrom\u001b[39;00m \u001b[39mtorch\u001b[39;00m\u001b[39m.\u001b[39;00m\u001b[39mutils\u001b[39;00m\u001b[39m.\u001b[39;00m\u001b[39mdata\u001b[39;00m \u001b[39mimport\u001b[39;00m TensorDataset\n\u001b[0;32m---> 10\u001b[0m \u001b[39mfrom\u001b[39;00m \u001b[39mskorch\u001b[39;00m\u001b[39m.\u001b[39;00m\u001b[39mhelper\u001b[39;00m \u001b[39mimport\u001b[39;00m predefined_split\n\u001b[1;32m     11\u001b[0m \u001b[39mfrom\u001b[39;00m \u001b[39mpathlib\u001b[39;00m \u001b[39mimport\u001b[39;00m Path\n\u001b[1;32m     12\u001b[0m \u001b[39mfrom\u001b[39;00m \u001b[39msklearn\u001b[39;00m\u001b[39m.\u001b[39;00m\u001b[39mutils\u001b[39;00m \u001b[39mimport\u001b[39;00m class_weight\n",
      "File \u001b[0;32m~/miniconda3/envs/MSc2021_decodingComparison/lib/python3.11/site-packages/skorch/helper.py:6\u001b[0m\n\u001b[1;32m      1\u001b[0m \u001b[39m\"\"\"Helper functions and classes for users.\u001b[39;00m\n\u001b[1;32m      2\u001b[0m \n\u001b[1;32m      3\u001b[0m \u001b[39mThey should not be used in skorch directly.\u001b[39;00m\n\u001b[1;32m      4\u001b[0m \n\u001b[1;32m      5\u001b[0m \u001b[39m\"\"\"\u001b[39;00m\n\u001b[0;32m----> 6\u001b[0m \u001b[39mfrom\u001b[39;00m \u001b[39mcollections\u001b[39;00m \u001b[39mimport\u001b[39;00m Sequence\n\u001b[1;32m      7\u001b[0m \u001b[39mfrom\u001b[39;00m \u001b[39mfunctools\u001b[39;00m \u001b[39mimport\u001b[39;00m partial\n\u001b[1;32m      9\u001b[0m \u001b[39mimport\u001b[39;00m \u001b[39mnumpy\u001b[39;00m \u001b[39mas\u001b[39;00m \u001b[39mnp\u001b[39;00m\n",
      "\u001b[0;31mImportError\u001b[0m: cannot import name 'Sequence' from 'collections' (/home/ehinger/miniconda3/envs/MSc2021_decodingComparison/lib/python3.11/collections/__init__.py)"
     ]
    }
   ],
   "source": [
    "import DataLoader\n",
    "import Training"
   ]
  },
  {
   "cell_type": "code",
   "execution_count": null,
   "metadata": {},
   "outputs": [],
   "source": [
    "# run exp per subject\n",
    "\n",
    "data_path = \"/store/projects/MSc2021_decodingComparison/\"\n",
    "preprocessing = \"medium\"\n",
    "model_name = \"deep\"\n",
    "n_epochs = 25\n",
    "lr = 0.01\n",
    "\n",
    "for task in [\"N170\", \"N400\", \"P3\", \"N2pc\", \"MMN\", \"ERN\", \"LRP\"]:\n",
    "    df = DataLoader.load_df(data_path, task, preprocessing)\n",
    "    model_folder = \"SubjectAnalysis_Cross\"\n",
    "    \n",
    "    Training.run_exp_per_subject(df, task, preprocessing, model_folder, model_name, \n",
    "            lr, n_epochs)\n",
    "    model_folder = \"SubjectAnalysis_Within\"\n",
    "    Training.run_exp_single_subject(df, task, preprocessing, model_folder, model_name, \n",
    "            lr, n_epochs, n_splits=10)\n"
   ]
  }
 ],
 "metadata": {
  "kernelspec": {
   "display_name": "MSc2021_decodingComparison",
   "language": "python",
   "name": "python3"
  },
  "language_info": {
   "codemirror_mode": {
    "name": "ipython",
    "version": 3
   },
   "file_extension": ".py",
   "mimetype": "text/x-python",
   "name": "python",
   "nbconvert_exporter": "python",
   "pygments_lexer": "ipython3",
   "version": "3.11.0"
  },
  "orig_nbformat": 4,
  "vscode": {
   "interpreter": {
    "hash": "2fe87e78d376395ef46f507be18195a89d0734e5d38061031bafd5beeb5a6663"
   }
  }
 },
 "nbformat": 4,
 "nbformat_minor": 2
}
